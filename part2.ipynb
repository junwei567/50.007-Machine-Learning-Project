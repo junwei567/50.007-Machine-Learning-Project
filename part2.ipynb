{
 "cells": [
  {
   "cell_type": "code",
   "execution_count": 1,
   "metadata": {},
   "outputs": [],
   "source": [
    "ES_TRAIN_DATA_FILE = \"./ES/train\"\n",
    "ES_TEST_DATA_FILE = \"./ES/dev.in\"\n",
    "ES_ACTUAL_DATA_FILE = \"./ES/dev.out\"\n",
    "ES_PART1_PREDICTED_DATA_FILE = \"./ES/dev.p1.out\"\n",
    "ES_PART2_PREDICTED_DATA_FILE = \"./ES/dev.p2.out\"\n",
    "ES_PART3_PREDICTED_DATA_FILE = \"./ES/dev.p3.out\"\n",
    "ES_PART4_PREDICTED_DATA_FILE = \"./ES/dev.p4.out\"\n",
    "\n",
    "RU_TRAIN_DATA_FILE = \"./RU/train\"\n",
    "RU_TEST_DATA_FILE = \"./RU/dev.in\"\n",
    "RU_ACTUAL_DATA_FILE = \"./RU/dev.out\"\n",
    "RU_PART1_PREDICTED_DATA_FILE = \"./RU/dev.p1.out\"\n",
    "RU_PART2_PREDICTED_DATA_FILE = \"./RU/dev.p2.out\"\n",
    "RU_PART3_PREDICTED_DATA_FILE = \"./RU/dev.p3.out\"\n",
    "RU_PART4_PREDICTED_DATA_FILE = \"./RU/dev.p4.out\""
   ]
  },
  {
   "cell_type": "code",
   "execution_count": 2,
   "metadata": {},
   "outputs": [],
   "source": [
    "def _preprocess_training_file(path):\n",
    "    with open(path, encoding=\"utf8\") as f:\n",
    "        data = f.read().splitlines()\n",
    "        data[:] = [x for x in data if x]\n",
    "\n",
    "    output = []\n",
    "    for i in data:\n",
    "        i = i.split(\" \")\n",
    "        if(len(i) > 2):\n",
    "            i = [\" \".join(i[0:len(i)-1]), i[len(i)-1]]\n",
    "            output.append(i)\n",
    "        else:\n",
    "            output.append(i)\n",
    "        \n",
    "    return output\n",
    "\n",
    "def _preprocess_testing_file(path):\n",
    "    with open(path, encoding=\"utf8\") as f:\n",
    "        data = f.read().splitlines()\n",
    "\n",
    "    output = []\n",
    "    for word in data:\n",
    "        # if word: # leave the newlines or not?\n",
    "        output.append(word)\n",
    "\n",
    "    return output"
   ]
  },
  {
   "cell_type": "code",
   "execution_count": null,
   "metadata": {},
   "outputs": [],
   "source": [
    "def get_tags_dictionary(path):\n",
    "    output = {\"START\": 0}\n",
    "    prev_line = \"\"\n",
    "    with open(path, encoding=\"utf-8\") as f:\n",
    "        data = f.read().splitlines()\n",
    "    \n",
    "    for line in data:\n",
    "        if len(line.split(\" \")) > 1:\n",
    "            tag = line.split(\" \")[-1]\n",
    "            if tag not in output:\n",
    "                output[tag] = 1\n",
    "            else:\n",
    "                output[tag] += 1  \n",
    "            if prev_line == \"\":  \n",
    "                output[\"START\"] + 1\n",
    "        prev_line = tag\n",
    "\n"
   ]
  }
 ],
 "metadata": {
  "interpreter": {
   "hash": "6bea1edf50713343d797f2d3f5675b7d568eeccbe5314af310a951584ccf1264"
  },
  "kernelspec": {
   "display_name": "Python 3.9.6 64-bit ('data-sci': virtualenv)",
   "language": "python",
   "name": "python3"
  },
  "language_info": {
   "codemirror_mode": {
    "name": "ipython",
    "version": 3
   },
   "file_extension": ".py",
   "mimetype": "text/x-python",
   "name": "python",
   "nbconvert_exporter": "python",
   "pygments_lexer": "ipython3",
   "version": "3.9.6"
  },
  "orig_nbformat": 4
 },
 "nbformat": 4,
 "nbformat_minor": 2
}
