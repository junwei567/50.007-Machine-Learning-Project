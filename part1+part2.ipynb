{
  "cells": [
    {
      "cell_type": "code",
      "execution_count": 15,
      "metadata": {
        "id": "x_f4Mywc7Wav"
      },
      "outputs": [],
      "source": [
        "ES_TRAIN_DATA_FILE = \"./ES/train\"\n",
        "ES_TEST_DATA_FILE = \"./ES/dev.in\"\n",
        "ES_PREDICTED_DATA_FILE = \"./ES/dev.p1.out\"\n",
        "ES_ACTUAL_DATA_FILE = \"./ES/dev.out\"\n",
        "RU_TRAIN_DATA_FILE = \"./RU/train\"\n",
        "RU_TEST_DATA_FILE = \"./RU/dev.in\"\n",
        "RU_PREDICTED_DATA_FILE = \"./RU/dev.p1.out\"\n",
        "RU_ACTUAL_DATA_FILE = \"./RU/dev.out\""
      ]
    },
    {
      "cell_type": "markdown",
      "metadata": {},
      "source": [
        "# Part 1 - Emission Paramters, UNK Token"
      ]
    },
    {
      "cell_type": "code",
      "execution_count": 16,
      "metadata": {
        "id": "lQg0WHpM7Wa0"
      },
      "outputs": [],
      "source": [
        "def _preprocess_training_file(file_path):\n",
        "    with open(file_path, encoding=\"utf8\") as f_lines:\n",
        "        data = f_lines.read().splitlines()\n",
        "        data[:] = [x for x in data if x]\n",
        "\n",
        "    output = []\n",
        "    for i in data:\n",
        "        i = i.split(\" \")\n",
        "        if(len(i) > 2):\n",
        "            i = [\" \".join(i[0:len(i)-1]), i[len(i)-1]]\n",
        "            output.append(i)\n",
        "        else:\n",
        "            output.append(i)\n",
        "        \n",
        "    return output\n",
        "\n",
        "def _preprocess_testing_file(path):\n",
        "    with open(path, encoding=\"utf8\") as f:\n",
        "        data = f.read().splitlines()\n",
        "\n",
        "    output = []\n",
        "    for word in data:\n",
        "        # if word: # leave the newlines or not?\n",
        "        output.append(word)\n",
        "\n",
        "    return output"
      ]
    },
    {
      "cell_type": "code",
      "execution_count": 17,
      "metadata": {
        "id": "EoDYOryl7Wa1"
      },
      "outputs": [],
      "source": [
        "def get_emission_using_MLE(training, k = 1):\n",
        "    tags = {}\n",
        "    tags_to_word = {}\n",
        "    emission = {}\n",
        "    for data in training:\n",
        "        word, tag = data[0], data[1]\n",
        "        if tag in tags:\n",
        "            tags[tag] += 1\n",
        "        else:\n",
        "            tags[tag] = 1\n",
        "        \n",
        "        tag_to_word = tuple((tag, word))\n",
        "        if tag_to_word in tags_to_word:\n",
        "            tags_to_word[tag_to_word] += 1\n",
        "        else:\n",
        "            tags_to_word[tag_to_word] = 1\n",
        "\n",
        "    for key in tags_to_word.keys():\n",
        "        emission[key] = tags_to_word[key] / (tags[key[0]] + k)\n",
        "    for key in tags.keys():\n",
        "        transition = tuple((key, \"#UNK#\"))\n",
        "        emission[transition] = k / (tags[key] + k)\n",
        "    # print(emission)\n",
        "    return emission"
      ]
    },
    {
      "cell_type": "code",
      "execution_count": 18,
      "metadata": {
        "id": "p4FTr7EO7Wa2"
      },
      "outputs": [],
      "source": [
        "def get_most_probable_tag(emission):\n",
        "    highest_prob = {}\n",
        "    output = {}\n",
        "    for key, prob in emission.items():\n",
        "        tag, word = key[0], key[1]\n",
        "        if word not in highest_prob:\n",
        "            highest_prob[word] = prob\n",
        "            output[word] = tag\n",
        "        else:\n",
        "            if prob > highest_prob[word]:\n",
        "                highest_prob[word] = prob\n",
        "                output[word] = tag\n",
        "    # print(output)\n",
        "    return output"
      ]
    },
    {
      "cell_type": "code",
      "execution_count": 19,
      "metadata": {
        "id": "d4wyxNfF7Wa2"
      },
      "outputs": [],
      "source": [
        "def write_to_predicted_file(predicted_file, test_file, most_probable_tag):\n",
        "    f = open(predicted_file, \"w\", encoding=\"utf8\")\n",
        "    for word in test_file:\n",
        "        if len(word) > 0:\n",
        "            try:\n",
        "                y = most_probable_tag[word]\n",
        "            except:\n",
        "                y = most_probable_tag[\"#UNK#\"]\n",
        "            f.write(f\"{word} {y}\\n\")\n",
        "        else: # leave the newlines??\n",
        "            f.write(\"\\n\")\n",
        "    f.close()"
      ]
    },
    {
      "cell_type": "code",
      "execution_count": 20,
      "metadata": {
        "id": "jXeN5YOL7Wa3"
      },
      "outputs": [],
      "source": [
        "# Part 1 code for ES Dataset\n",
        "ES_train_data = _preprocess_training_file(ES_TRAIN_DATA_FILE)\n",
        "ES_test_data = _preprocess_testing_file(ES_TEST_DATA_FILE)\n",
        "\n",
        "ES_emission_parameters = get_emission_using_MLE(ES_train_data)\n",
        "ES_most_probable_tag = get_most_probable_tag(ES_emission_parameters)\n",
        "write_to_predicted_file(ES_PREDICTED_DATA_FILE, ES_test_data, ES_most_probable_tag)\n",
        "\n",
        "# Part 1 code for RU Dataset\n",
        "RU_train_data = _preprocess_training_file(RU_TRAIN_DATA_FILE)\n",
        "RU_test_data = _preprocess_testing_file(RU_TEST_DATA_FILE)\n",
        "\n",
        "RU_emission_parameters = get_emission_using_MLE(RU_train_data)\n",
        "RU_most_probable_tag = get_most_probable_tag(RU_emission_parameters)\n",
        "write_to_predicted_file(RU_PREDICTED_DATA_FILE, RU_test_data, RU_most_probable_tag)"
      ]
    },
    {
      "cell_type": "code",
      "execution_count": 21,
      "metadata": {
        "id": "qKJsLOOC7Wa4",
        "outputId": "4d84d753-2a74-4f45-a3bc-09891a7451a4"
      },
      "outputs": [
        {
          "data": {
            "text/plain": [
              "0.6397645271553362"
            ]
          },
          "execution_count": 21,
          "metadata": {},
          "output_type": "execute_result"
        }
      ],
      "source": [
        "def evaluate_precision(path_predicted, path_actual):\n",
        "    correctly_predicted_entities = 0\n",
        "    predicted_entities = 0\n",
        "    with open(path_predicted, encoding=\"utf8\") as f:\n",
        "        predicted_data = f.read().splitlines()\n",
        "        predicted_data[:] = [x for x in predicted_data if x]\n",
        "\n",
        "    with open(path_actual, encoding=\"utf8\") as f:\n",
        "        actual_data = f.read().splitlines()\n",
        "        actual_data[:] = [x for x in actual_data if x]\n",
        "\n",
        "    for i in range(len(predicted_data)):\n",
        "        predicted_entities += 1\n",
        "        if predicted_data[i] == actual_data[i]:\n",
        "            correctly_predicted_entities += 1\n",
        "\n",
        "    return correctly_predicted_entities / predicted_entities\n",
        "\n",
        "evaluate_precision(ES_PREDICTED_DATA_FILE, ES_ACTUAL_DATA_FILE)"
      ]
    },
    {
      "cell_type": "markdown",
      "metadata": {},
      "source": [
        "# Part 2i - Transition Parameters"
      ]
    },
    {
      "cell_type": "code",
      "execution_count": 22,
      "metadata": {
        "id": "Ts1g5HEZoQTh"
      },
      "outputs": [],
      "source": [
        "import itertools\n",
        "def _preprocess_training_file(training_file):\n",
        "    tags = []\n",
        "    tags_with_start_stop = []\n",
        "    words = []\n",
        "\n",
        "    with open(training_file,\"r\",encoding=\"utf8\") as f:\n",
        "        document = f.read().rstrip()\n",
        "        lines = document.split(\"\\n\\n\")\n",
        "\n",
        "        for line in lines:\n",
        "            tags_list = []\n",
        "            tags_with_start_stop_list = []\n",
        "            words_list = []\n",
        "\n",
        "            for word_tag in line.split(\"\\n\"):\n",
        "                word, tag = word_tag.split(\" \")\n",
        "                words_list.append(word)\n",
        "                tags_list.append(tag)\n",
        "\n",
        "            tags.append(tags_list)\n",
        "            tags_with_start_stop_list = [\"START\"] + tags_list + [\"STOP\"]\n",
        "            tags_with_start_stop.append(tags_with_start_stop_list)\n",
        "            words.append(words_list)\n",
        "    \n",
        "    print(f'tags: {tags[0:3]}')\n",
        "    print(f'tags_with_start_stop: {tags_with_start_stop[0:3]}')\n",
        "    print(f'words: {words[0:3]}\\n')\n",
        "    return tags, tags_with_start_stop, words\n",
        "\n",
        "def _preprocess_test_file(testing_file):\n",
        "    test_words = []\n",
        "\n",
        "    with open(testing_file,\"r\",encoding=\"utf8\") as f:\n",
        "        document = f.read().rstrip()\n",
        "        lines = document.split(\"\\n\\n\")\n",
        "\n",
        "        for line in lines:\n",
        "            word_list = []\n",
        "            for word in line.split(\"\\n\"):\n",
        "                word_list.append(word)\n",
        "            test_words.append(word_list)\n",
        "\n",
        "    return test_words"
      ]
    },
    {
      "cell_type": "code",
      "execution_count": 23,
      "metadata": {
        "id": "6UGSa6o8oSq-"
      },
      "outputs": [],
      "source": [
        "def get_unique_elements(lst):\n",
        "    return list(set(list(itertools.chain.from_iterable(lst))))\n",
        "\n",
        "def get_unique_tags(tags):\n",
        "    tags_unique = get_unique_elements(tags)\n",
        "    print(f'tags_unique: {tags_unique}')\n",
        "    tags_unique.sort()\n",
        "    print(f'tags_unique_sorted: {tags_unique}')\n",
        "    tags_unique_with_start_stop = [\"START\"] + tags_unique + [\"STOP\"]\n",
        "    print(f'tags_unique_with_start_stop: {tags_unique_with_start_stop}\\n')\n",
        "\n",
        "    return tags_unique, tags_unique_with_start_stop\n"
      ]
    },
    {
      "cell_type": "code",
      "execution_count": 24,
      "metadata": {
        "id": "jiPUAxu8oWaC"
      },
      "outputs": [],
      "source": [
        "def get_transition_pairs(tags):\n",
        "    transition_pair_count = {}\n",
        "\n",
        "    for tag in tags:\n",
        "        #yi-1 and yi tuples\n",
        "        for tag1, tag2 in zip(tag[:-1], tag[1:]):\n",
        "            transition_pair = (tag1, tag2)\n",
        "            if transition_pair in transition_pair_count:\n",
        "                transition_pair_count[transition_pair] += 1\n",
        "            else:\n",
        "                transition_pair_count[transition_pair] = 1\n",
        "\n",
        "    print(f'transition_pair_count: {transition_pair_count}\\n')\n",
        "    return transition_pair_count"
      ]
    },
    {
      "cell_type": "code",
      "execution_count": 25,
      "metadata": {
        "id": "oFuy2BmcoZTC"
      },
      "outputs": [],
      "source": [
        "def count_y(tag, tags):\n",
        "    tags_flattened = list(itertools.chain.from_iterable(tags))\n",
        "    return tags_flattened.count(tag)"
      ]
    },
    {
      "cell_type": "code",
      "execution_count": 26,
      "metadata": {
        "id": "XtJUBQ3uofA7"
      },
      "outputs": [],
      "source": [
        "def get_transition_using_MLE(tags_unique_with_start_stop, transition_pair_count,\n",
        "                          tags_with_start_stop):\n",
        "\n",
        "    transition = {}\n",
        "    #create matrix dimensions\n",
        "    for tag1 in tags_unique_with_start_stop[:-1]:\n",
        "        transition_row = {}\n",
        "        for tag2 in tags_unique_with_start_stop[1:]:\n",
        "            transition_row[tag2] = 0.0\n",
        "        transition[tag1] = transition_row\n",
        "\n",
        "    print(f'transition_params_init: {transition}\\n')\n",
        "    # populate transition parameters with counts\n",
        "    for tag1, tag2 in transition_pair_count:\n",
        "        transition[tag1][tag2] += transition_pair_count[(tag1, tag2)]\n",
        "    \n",
        "    print(f'transition_params_with_count: {transition}\\n')\n",
        "\n",
        "    # divide transition_count by count_yi, to get probability\n",
        "    for tag1, transition_row in transition.items():\n",
        "        count_yi = count_y(tag1, tags_with_start_stop)\n",
        "\n",
        "        # words in training set\n",
        "        for tag2, transition_count in transition_row.items():\n",
        "            if count_yi == 0:\n",
        "                transition[tag1][tag2] = 0.0\n",
        "            else:\n",
        "                transition[tag1][tag2] = transition_count / count_yi\n",
        "\n",
        "    print(f'transition_params_final: {transition}\\n')\n",
        "\n",
        "    return transition"
      ]
    },
    {
      "cell_type": "code",
      "execution_count": 27,
      "metadata": {},
      "outputs": [
        {
          "name": "stdout",
          "output_type": "stream",
          "text": [
            "tags: [['O', 'O', 'O', 'O', 'O', 'O', 'O', 'B-positive', 'O', 'O', 'O', 'O', 'O', 'O', 'O'], ['O', 'O', 'O', 'O', 'O', 'O', 'O', 'O', 'O', 'O', 'O', 'O', 'O', 'O'], ['O', 'O', 'B-negative', 'O']]\n",
            "tags_with_start_stop: [['START', 'O', 'O', 'O', 'O', 'O', 'O', 'O', 'B-positive', 'O', 'O', 'O', 'O', 'O', 'O', 'O', 'STOP'], ['START', 'O', 'O', 'O', 'O', 'O', 'O', 'O', 'O', 'O', 'O', 'O', 'O', 'O', 'O', 'STOP'], ['START', 'O', 'O', 'B-negative', 'O', 'STOP']]\n",
            "words: [['disfrutemos', 'de', 'una', 'buenísima', 'calidad', 'en', 'el', 'producto', 'y', 'una', 'inmejorable', 'relación', 'calidad', 'precio', '.'], ['Hoy', 'he', 'ido', 'a', 'comer', 'con', 'mia', 'padres', 'y', 'he', 'salido', 'muy', 'defraudado', '.'], ['A', 'mejorar', 'baños', '.']]\n",
            "\n",
            "tags_unique: ['B-positive', 'I-negative', 'B-negative', 'O', 'B-neutral', 'I-neutral', 'I-positive']\n",
            "tags_unique_sorted: ['B-negative', 'B-neutral', 'B-positive', 'I-negative', 'I-neutral', 'I-positive', 'O']\n",
            "tags_unique_with_start_stop: ['START', 'B-negative', 'B-neutral', 'B-positive', 'I-negative', 'I-neutral', 'I-positive', 'O', 'STOP']\n",
            "\n",
            "transition_pair_count: {('START', 'O'): 1918, ('O', 'O'): 27939, ('O', 'B-positive'): 1162, ('B-positive', 'O'): 1100, ('O', 'STOP'): 2050, ('O', 'B-negative'): 402, ('B-negative', 'O'): 347, ('START', 'B-negative'): 27, ('B-negative', 'I-negative'): 78, ('I-negative', 'I-negative'): 151, ('I-negative', 'O'): 78, ('START', 'B-positive'): 110, ('B-positive', 'I-positive'): 162, ('I-positive', 'O'): 160, ('I-positive', 'I-positive'): 238, ('O', 'B-neutral'): 74, ('B-neutral', 'O'): 69, ('START', 'B-neutral'): 10, ('B-positive', 'B-positive'): 2, ('B-negative', 'STOP'): 4, ('B-positive', 'STOP'): 9, ('B-neutral', 'I-neutral'): 16, ('I-neutral', 'O'): 16, ('I-positive', 'STOP'): 2, ('B-positive', 'B-neutral'): 1, ('I-neutral', 'I-neutral'): 28}\n",
            "\n",
            "transition_params_init: {'START': {'B-negative': 0.0, 'B-neutral': 0.0, 'B-positive': 0.0, 'I-negative': 0.0, 'I-neutral': 0.0, 'I-positive': 0.0, 'O': 0.0, 'STOP': 0.0}, 'B-negative': {'B-negative': 0.0, 'B-neutral': 0.0, 'B-positive': 0.0, 'I-negative': 0.0, 'I-neutral': 0.0, 'I-positive': 0.0, 'O': 0.0, 'STOP': 0.0}, 'B-neutral': {'B-negative': 0.0, 'B-neutral': 0.0, 'B-positive': 0.0, 'I-negative': 0.0, 'I-neutral': 0.0, 'I-positive': 0.0, 'O': 0.0, 'STOP': 0.0}, 'B-positive': {'B-negative': 0.0, 'B-neutral': 0.0, 'B-positive': 0.0, 'I-negative': 0.0, 'I-neutral': 0.0, 'I-positive': 0.0, 'O': 0.0, 'STOP': 0.0}, 'I-negative': {'B-negative': 0.0, 'B-neutral': 0.0, 'B-positive': 0.0, 'I-negative': 0.0, 'I-neutral': 0.0, 'I-positive': 0.0, 'O': 0.0, 'STOP': 0.0}, 'I-neutral': {'B-negative': 0.0, 'B-neutral': 0.0, 'B-positive': 0.0, 'I-negative': 0.0, 'I-neutral': 0.0, 'I-positive': 0.0, 'O': 0.0, 'STOP': 0.0}, 'I-positive': {'B-negative': 0.0, 'B-neutral': 0.0, 'B-positive': 0.0, 'I-negative': 0.0, 'I-neutral': 0.0, 'I-positive': 0.0, 'O': 0.0, 'STOP': 0.0}, 'O': {'B-negative': 0.0, 'B-neutral': 0.0, 'B-positive': 0.0, 'I-negative': 0.0, 'I-neutral': 0.0, 'I-positive': 0.0, 'O': 0.0, 'STOP': 0.0}}\n",
            "\n",
            "transition_params_with_count: {'START': {'B-negative': 27.0, 'B-neutral': 10.0, 'B-positive': 110.0, 'I-negative': 0.0, 'I-neutral': 0.0, 'I-positive': 0.0, 'O': 1918.0, 'STOP': 0.0}, 'B-negative': {'B-negative': 0.0, 'B-neutral': 0.0, 'B-positive': 0.0, 'I-negative': 78.0, 'I-neutral': 0.0, 'I-positive': 0.0, 'O': 347.0, 'STOP': 4.0}, 'B-neutral': {'B-negative': 0.0, 'B-neutral': 0.0, 'B-positive': 0.0, 'I-negative': 0.0, 'I-neutral': 16.0, 'I-positive': 0.0, 'O': 69.0, 'STOP': 0.0}, 'B-positive': {'B-negative': 0.0, 'B-neutral': 1.0, 'B-positive': 2.0, 'I-negative': 0.0, 'I-neutral': 0.0, 'I-positive': 162.0, 'O': 1100.0, 'STOP': 9.0}, 'I-negative': {'B-negative': 0.0, 'B-neutral': 0.0, 'B-positive': 0.0, 'I-negative': 151.0, 'I-neutral': 0.0, 'I-positive': 0.0, 'O': 78.0, 'STOP': 0.0}, 'I-neutral': {'B-negative': 0.0, 'B-neutral': 0.0, 'B-positive': 0.0, 'I-negative': 0.0, 'I-neutral': 28.0, 'I-positive': 0.0, 'O': 16.0, 'STOP': 0.0}, 'I-positive': {'B-negative': 0.0, 'B-neutral': 0.0, 'B-positive': 0.0, 'I-negative': 0.0, 'I-neutral': 0.0, 'I-positive': 238.0, 'O': 160.0, 'STOP': 2.0}, 'O': {'B-negative': 402.0, 'B-neutral': 74.0, 'B-positive': 1162.0, 'I-negative': 0.0, 'I-neutral': 0.0, 'I-positive': 0.0, 'O': 27939.0, 'STOP': 2050.0}}\n",
            "\n",
            "transition_params_final: {'START': {'B-negative': 0.013075060532687652, 'B-neutral': 0.004842615012106538, 'B-positive': 0.053268765133171914, 'I-negative': 0.0, 'I-neutral': 0.0, 'I-positive': 0.0, 'O': 0.9288135593220339, 'STOP': 0.0}, 'B-negative': {'B-negative': 0.0, 'B-neutral': 0.0, 'B-positive': 0.0, 'I-negative': 0.18181818181818182, 'I-neutral': 0.0, 'I-positive': 0.0, 'O': 0.8088578088578089, 'STOP': 0.009324009324009324}, 'B-neutral': {'B-negative': 0.0, 'B-neutral': 0.0, 'B-positive': 0.0, 'I-negative': 0.0, 'I-neutral': 0.18823529411764706, 'I-positive': 0.0, 'O': 0.8117647058823529, 'STOP': 0.0}, 'B-positive': {'B-negative': 0.0, 'B-neutral': 0.0007849293563579278, 'B-positive': 0.0015698587127158557, 'I-negative': 0.0, 'I-neutral': 0.0, 'I-positive': 0.1271585557299843, 'O': 0.8634222919937206, 'STOP': 0.00706436420722135}, 'I-negative': {'B-negative': 0.0, 'B-neutral': 0.0, 'B-positive': 0.0, 'I-negative': 0.6593886462882096, 'I-neutral': 0.0, 'I-positive': 0.0, 'O': 0.3406113537117904, 'STOP': 0.0}, 'I-neutral': {'B-negative': 0.0, 'B-neutral': 0.0, 'B-positive': 0.0, 'I-negative': 0.0, 'I-neutral': 0.6363636363636364, 'I-positive': 0.0, 'O': 0.36363636363636365, 'STOP': 0.0}, 'I-positive': {'B-negative': 0.0, 'B-neutral': 0.0, 'B-positive': 0.0, 'I-negative': 0.0, 'I-neutral': 0.0, 'I-positive': 0.595, 'O': 0.4, 'STOP': 0.005}, 'O': {'B-negative': 0.012710658614474974, 'B-neutral': 0.0023397729787839505, 'B-positive': 0.03674075947766149, 'I-negative': 0.0, 'I-neutral': 0.0, 'I-positive': 0.0, 'O': 0.8833907737060107, 'STOP': 0.06481803522306889}}\n",
            "\n"
          ]
        }
      ],
      "source": [
        "# TODO: For Sath to include code to run the transition parameter functions\n",
        "tags, tags_with_start_stop, words = _preprocess_training_file(ES_TRAIN_DATA_FILE)\n",
        "test_words = _preprocess_test_file(ES_TEST_DATA_FILE)\n",
        "tags_unique_with_start_stop, tags_unique_with_start_stop = get_unique_tags(tags)\n",
        "transition_pair_count = get_transition_pairs(tags_with_start_stop)\n",
        "\n",
        "transition_matrix = get_transition_using_MLE(tags_unique_with_start_stop, transition_pair_count, tags_with_start_stop)"
      ]
    },
    {
      "cell_type": "markdown",
      "metadata": {},
      "source": [
        "# Part 2ii - Viterbi Algorithm"
      ]
    },
    {
      "cell_type": "code",
      "execution_count": 28,
      "metadata": {},
      "outputs": [],
      "source": [
        "# TODO: Song Gee to write algorithm for Viterbi"
      ]
    }
  ],
  "metadata": {
    "colab": {
      "name": "part1.ipynb",
      "provenance": []
    },
    "interpreter": {
      "hash": "6bea1edf50713343d797f2d3f5675b7d568eeccbe5314af310a951584ccf1264"
    },
    "kernelspec": {
      "display_name": "Python 3.9.6 64-bit ('data-sci': virtualenv)",
      "language": "python",
      "name": "python3"
    },
    "language_info": {
      "codemirror_mode": {
        "name": "ipython",
        "version": 3
      },
      "file_extension": ".py",
      "mimetype": "text/x-python",
      "name": "python",
      "nbconvert_exporter": "python",
      "pygments_lexer": "ipython3",
      "version": "3.9.7"
    },
    "orig_nbformat": 4
  },
  "nbformat": 4,
  "nbformat_minor": 0
}
